{
 "cells": [
  {
   "cell_type": "markdown",
   "metadata": {},
   "source": [
    "# Domain Driver Data Mining Project"
   ]
  },
  {
   "cell_type": "markdown",
   "metadata": {},
   "source": [
    "### Load dataset"
   ]
  },
  {
   "cell_type": "code",
   "execution_count": 50,
   "metadata": {},
   "outputs": [],
   "source": [
    "data_name = 'articles_training.tsv'"
   ]
  },
  {
   "cell_type": "code",
   "execution_count": 51,
   "metadata": {},
   "outputs": [
    {
     "name": "stdout",
     "output_type": "stream",
     "text": [
      "The autoreload extension is already loaded. To reload it, use:\n",
      "  %reload_ext autoreload\n"
     ]
    }
   ],
   "source": [
    "from utils import *\n",
    "%load_ext autoreload\n",
    "%autoreload 2"
   ]
  },
  {
   "cell_type": "code",
   "execution_count": 52,
   "metadata": {},
   "outputs": [
    {
     "data": {
      "text/html": [
       "<div>\n",
       "<style scoped>\n",
       "    .dataframe tbody tr th:only-of-type {\n",
       "        vertical-align: middle;\n",
       "    }\n",
       "\n",
       "    .dataframe tbody tr th {\n",
       "        vertical-align: top;\n",
       "    }\n",
       "\n",
       "    .dataframe thead th {\n",
       "        text-align: right;\n",
       "    }\n",
       "</style>\n",
       "<table border=\"1\" class=\"dataframe\">\n",
       "  <thead>\n",
       "    <tr style=\"text-align: right;\">\n",
       "      <th></th>\n",
       "      <th>content</th>\n",
       "      <th>tags</th>\n",
       "    </tr>\n",
       "  </thead>\n",
       "  <tbody>\n",
       "    <tr>\n",
       "      <th>0</th>\n",
       "      <td>Bước vào trận đấu, Barcelona nhanh chóng tràn ...</td>\n",
       "      <td>La Liga,Sevilla,Olimpic Lluis Companys,đè bẹp,...</td>\n",
       "    </tr>\n",
       "    <tr>\n",
       "      <th>1</th>\n",
       "      <td>Willian đi vào lịch sử bóng đá xứ samba. Với 1...</td>\n",
       "      <td>Estevao Willian,Neymar,giải VĐQG Brazil,Serie ...</td>\n",
       "    </tr>\n",
       "    <tr>\n",
       "      <th>2</th>\n",
       "      <td>Giải vô địch ná cao su thế giới năm 2024 đã di...</td>\n",
       "      <td>ná cao su,giải vô địch,giải Ba,Thượng Hải,đồng...</td>\n",
       "    </tr>\n",
       "    <tr>\n",
       "      <th>3</th>\n",
       "      <td>Mục tiêu lớn Phó Thủ tướng Chính phủ Lê Thành ...</td>\n",
       "      <td>đăng cai,Đại hội Thể thao châu Á,ASIAD,thể dục...</td>\n",
       "    </tr>\n",
       "    <tr>\n",
       "      <th>4</th>\n",
       "      <td>Ngày 20-10, Giải bơi và lặn vô địch quốc gia n...</td>\n",
       "      <td>toàn đoàn,lặn,Vũ Đặng Nhật Nam,Nguyễn Lê Truyề...</td>\n",
       "    </tr>\n",
       "  </tbody>\n",
       "</table>\n",
       "</div>"
      ],
      "text/plain": [
       "                                             content  \\\n",
       "0  Bước vào trận đấu, Barcelona nhanh chóng tràn ...   \n",
       "1  Willian đi vào lịch sử bóng đá xứ samba. Với 1...   \n",
       "2  Giải vô địch ná cao su thế giới năm 2024 đã di...   \n",
       "3  Mục tiêu lớn Phó Thủ tướng Chính phủ Lê Thành ...   \n",
       "4  Ngày 20-10, Giải bơi và lặn vô địch quốc gia n...   \n",
       "\n",
       "                                                tags  \n",
       "0  La Liga,Sevilla,Olimpic Lluis Companys,đè bẹp,...  \n",
       "1  Estevao Willian,Neymar,giải VĐQG Brazil,Serie ...  \n",
       "2  ná cao su,giải vô địch,giải Ba,Thượng Hải,đồng...  \n",
       "3  đăng cai,Đại hội Thể thao châu Á,ASIAD,thể dục...  \n",
       "4  toàn đoàn,lặn,Vũ Đặng Nhật Nam,Nguyễn Lê Truyề...  "
      ]
     },
     "execution_count": 52,
     "metadata": {},
     "output_type": "execute_result"
    }
   ],
   "source": [
    "tags_encoded = ['content', 'tags']\n",
    "data = pd.read_csv(\"../dataset/articles_training_small.tsv\", sep='\\t')\n",
    "\n",
    "data.head()"
   ]
  },
  {
   "cell_type": "code",
   "execution_count": 53,
   "metadata": {},
   "outputs": [
    {
     "name": "stdout",
     "output_type": "stream",
     "text": [
      "(25, 2)\n"
     ]
    }
   ],
   "source": [
    "print(data.shape)"
   ]
  },
  {
   "cell_type": "code",
   "execution_count": 55,
   "metadata": {},
   "outputs": [
    {
     "name": "stdout",
     "output_type": "stream",
     "text": [
      "                                                  content  \\\n",
      "count                                                  25   \n",
      "unique                                                 25   \n",
      "top     Bước vào trận đấu, Barcelona nhanh chóng tràn ...   \n",
      "freq                                                    1   \n",
      "\n",
      "                                                     tags  \n",
      "count                                                  25  \n",
      "unique                                                 25  \n",
      "top     [La Liga, Sevilla, Olimpic Lluis Companys, đè ...  \n",
      "freq                                                    1  \n"
     ]
    }
   ],
   "source": [
    "print(data.describe())\n"
   ]
  }
 ],
 "metadata": {
  "kernelspec": {
   "display_name": "venv",
   "language": "python",
   "name": "python3"
  },
  "language_info": {
   "codemirror_mode": {
    "name": "ipython",
    "version": 3
   },
   "file_extension": ".py",
   "mimetype": "text/x-python",
   "name": "python",
   "nbconvert_exporter": "python",
   "pygments_lexer": "ipython3",
   "version": "3.9.6"
  }
 },
 "nbformat": 4,
 "nbformat_minor": 2
}
